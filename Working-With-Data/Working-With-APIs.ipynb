{
  "nbformat": 4,
  "nbformat_minor": 0,
  "metadata": {
    "colab": {
      "provenance": [],
      "gpuType": "T4",
      "authorship_tag": "ABX9TyM30hsxk8Wi2FwMsDXAhfHn",
      "include_colab_link": true
    },
    "kernelspec": {
      "name": "python3",
      "display_name": "Python 3"
    },
    "language_info": {
      "name": "python"
    },
    "accelerator": "GPU"
  },
  "cells": [
    {
      "cell_type": "markdown",
      "metadata": {
        "id": "view-in-github",
        "colab_type": "text"
      },
      "source": [
        "<a href=\"https://colab.research.google.com/github/imtufail/Machine-Learning-Contents/blob/main/Working-With-Data/Working-With-APIs.ipynb\" target=\"_parent\"><img src=\"https://colab.research.google.com/assets/colab-badge.svg\" alt=\"Open In Colab\"/></a>"
      ]
    },
    {
      "cell_type": "code",
      "execution_count": 2,
      "metadata": {
        "id": "7ilCablwGTXs"
      },
      "outputs": [],
      "source": [
        "import pandas as pd\n",
        "import  requests\n",
        "import json"
      ]
    },
    {
      "cell_type": "code",
      "source": [
        "response = requests.get('https://cdn.jsdelivr.net/gh/fawazahmed0/quran-api@1/info.json')"
      ],
      "metadata": {
        "id": "ImTbGOkREAn7"
      },
      "execution_count": 4,
      "outputs": []
    },
    {
      "cell_type": "code",
      "source": [
        "response"
      ],
      "metadata": {
        "id": "3OppXjeEbIrX",
        "outputId": "c4ee084b-db49-4c64-b6c3-4b9686974409",
        "colab": {
          "base_uri": "https://localhost:8080/"
        }
      },
      "execution_count": 5,
      "outputs": [
        {
          "output_type": "execute_result",
          "data": {
            "text/plain": [
              "<Response [200]>"
            ]
          },
          "metadata": {},
          "execution_count": 5
        }
      ]
    },
    {
      "cell_type": "code",
      "source": [
        "if response.status_code ==200:\n",
        "  data = response.json()\n",
        "  print(json.dumps(data,indent=2))\n",
        "else:\n",
        "  print('Failed to retrieve data',response.status_code)"
      ],
      "metadata": {
        "id": "J4SZiA97bl9L"
      },
      "execution_count": null,
      "outputs": []
    }
  ]
}