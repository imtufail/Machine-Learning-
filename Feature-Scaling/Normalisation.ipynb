{
 "cells": [
  {
   "cell_type": "markdown",
   "id": "138bf25b",
   "metadata": {
    "papermill": {
     "duration": 0.002097,
     "end_time": "2025-08-17T14:44:33.663044",
     "exception": false,
     "start_time": "2025-08-17T14:44:33.660947",
     "status": "completed"
    },
    "tags": []
   },
   "source": [
    "# Normalisation"
   ]
  },
  {
   "cell_type": "code",
   "execution_count": null,
   "id": "025da007",
   "metadata": {
    "papermill": {
     "duration": 0.001085,
     "end_time": "2025-08-17T14:44:33.665992",
     "exception": false,
     "start_time": "2025-08-17T14:44:33.664907",
     "status": "completed"
    },
    "tags": []
   },
   "outputs": [],
   "source": []
  }
 ],
 "metadata": {
  "kaggle": {
   "accelerator": "none",
   "dataSources": [],
   "dockerImageVersionId": 31089,
   "isGpuEnabled": false,
   "isInternetEnabled": false,
   "language": "python",
   "sourceType": "notebook"
  },
  "kernelspec": {
   "display_name": "Python 3",
   "language": "python",
   "name": "python3"
  },
  "language_info": {
   "codemirror_mode": {
    "name": "ipython",
    "version": 3
   },
   "file_extension": ".py",
   "mimetype": "text/x-python",
   "name": "python",
   "nbconvert_exporter": "python",
   "pygments_lexer": "ipython3",
   "version": "3.11.13"
  },
  "papermill": {
   "default_parameters": {},
   "duration": 5.947073,
   "end_time": "2025-08-17T14:44:34.288947",
   "environment_variables": {},
   "exception": null,
   "input_path": "__notebook__.ipynb",
   "output_path": "__notebook__.ipynb",
   "parameters": {},
   "start_time": "2025-08-17T14:44:28.341874",
   "version": "2.6.0"
  }
 },
 "nbformat": 4,
 "nbformat_minor": 5
}
