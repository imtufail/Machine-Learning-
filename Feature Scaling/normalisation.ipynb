{
 "cells": [
  {
   "cell_type": "markdown",
   "id": "f3138c6f",
   "metadata": {
    "papermill": {
     "duration": 0.001671,
     "end_time": "2025-08-17T14:40:10.110729",
     "exception": false,
     "start_time": "2025-08-17T14:40:10.109058",
     "status": "completed"
    },
    "tags": []
   },
   "source": [
    "# Normalisation"
   ]
  },
  {
   "cell_type": "code",
   "execution_count": null,
   "id": "67821afa",
   "metadata": {
    "papermill": {
     "duration": 0.000977,
     "end_time": "2025-08-17T14:40:10.113242",
     "exception": false,
     "start_time": "2025-08-17T14:40:10.112265",
     "status": "completed"
    },
    "tags": []
   },
   "outputs": [],
   "source": []
  }
 ],
 "metadata": {
  "kaggle": {
   "accelerator": "none",
   "dataSources": [],
   "dockerImageVersionId": 31089,
   "isGpuEnabled": false,
   "isInternetEnabled": false,
   "language": "python",
   "sourceType": "notebook"
  },
  "kernelspec": {
   "display_name": "Python 3",
   "language": "python",
   "name": "python3"
  },
  "language_info": {
   "codemirror_mode": {
    "name": "ipython",
    "version": 3
   },
   "file_extension": ".py",
   "mimetype": "text/x-python",
   "name": "python",
   "nbconvert_exporter": "python",
   "pygments_lexer": "ipython3",
   "version": "3.11.13"
  },
  "papermill": {
   "default_parameters": {},
   "duration": 5.1902,
   "end_time": "2025-08-17T14:40:10.534099",
   "environment_variables": {},
   "exception": null,
   "input_path": "__notebook__.ipynb",
   "output_path": "__notebook__.ipynb",
   "parameters": {},
   "start_time": "2025-08-17T14:40:05.343899",
   "version": "2.6.0"
  }
 },
 "nbformat": 4,
 "nbformat_minor": 5
}
